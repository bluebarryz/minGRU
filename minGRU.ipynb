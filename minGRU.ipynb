{
  "cells": [
    {
      "cell_type": "markdown",
      "metadata": {},
      "source": [
        "# minGRU\n",
        "Predicting the next word.\n",
        "\n",
        "Note: this project was completed for CS 479 Assignment 4"
      ]
    },
    {
      "cell_type": "code",
      "execution_count": 1,
      "metadata": {},
      "outputs": [],
      "source": [
        "import torch\n",
        "import torch.nn as nn\n",
        "import numpy as np\n",
        "import matplotlib.pylab as plt\n",
        "from tqdm import tqdm\n",
        "device = 'cuda' if torch.cuda.is_available() else 'cpu'\n",
        "\n",
        "torch.manual_seed(111) #for reproducibility purposes\n",
        "np.random.seed(111)"
      ]
    },
    {
      "cell_type": "markdown",
      "metadata": {},
      "source": [
        "## Read in the data"
      ]
    },
    {
      "cell_type": "markdown",
      "metadata": {},
      "source": [
        "Note: the data reading code was provided by the CS 479 starter code."
      ]
    },
    {
      "cell_type": "markdown",
      "metadata": {},
      "source": [
        "The code below creates a dataset from an excerpt from Charles Darwin's _On the Origin of Species by Natural Selection_ (1859).\n",
        "  \n",
        "Each list element represents a sequence of characters. There are 3 ways to represent a character:\n",
        "1. `c`: As a character, eg. `'b'`\n",
        "2. `i`: As an index to a character set, eg. `2`\n",
        "3. `v`: As a one-hot vector, eg. `[0, 0, 1, 0, ...]` (`a` is at index 1)\n",
        "\n",
        "These utility functions convert sequences between the 3 different representations.\n",
        "  - `seq_v2i`\n",
        "  - `seq_v2c`\n",
        "  - `seq_c2i`\n",
        "  - `seq_c2v`\n",
        "  - `seq_i2v`\n",
        "  - `seq_i2c`"
      ]
    },
    {
      "cell_type": "code",
      "execution_count": 2,
      "metadata": {},
      "outputs": [],
      "source": [
        "import re\n",
        "class Origin(torch.utils.data.Dataset):\n",
        "    def __init__(self, seq_length=10, start=0, stop=-1):\n",
        "        self.seq_length = seq_length\n",
        "\n",
        "        orig_text = open('origin_of_species.txt').read().lower()\n",
        "        chars = sorted(list(set(orig_text)))\n",
        "        chars.insert(0, \"\\0\") #Add newline character\n",
        "\n",
        "        char_indices = dict((c, i) for i, c in enumerate(chars))\n",
        "        indices_char = dict((i, c) for i, c in enumerate(chars))\n",
        "        idx = [char_indices[c] for c in orig_text]\n",
        "\n",
        "        # Let's simplify it by keeping only letters and spaces\n",
        "        filt_idx = []\n",
        "        for i in idx:\n",
        "            if i<=24 and i!=10:\n",
        "                filt_idx.append(2)\n",
        "            elif i>24 or i==10:\n",
        "                filt_idx.append(i)\n",
        "        blah = ''.join([indices_char[f] for f in filt_idx])\n",
        "        self.text = re.sub(' +', ' ', blah)  # collapse multiple spaces using regular expressions\n",
        "        self.text = self.text[start:stop]\n",
        "        chars = sorted(list(set(self.text)))\n",
        "        self.vocab_size = len(chars)\n",
        "        print('Character set: \\\"'+''.join(chars)+'\\\" (first char is a space)')\n",
        "\n",
        "        self.char_indices = dict((c, i) for i, c in enumerate(chars))\n",
        "        self.indices_char = dict((i, c) for i, c in enumerate(chars))\n",
        "        self.idx = [self.char_indices[c] for c in self.text]\n",
        "\n",
        "        print('There are '+str(self.vocab_size)+' characters in our character set')\n",
        "\n",
        "    def __len__(self):\n",
        "        return len(self.text) - 1 - self.seq_length\n",
        "    \n",
        "    def __getitem__(self, k):\n",
        "        x = self.idx[k:k+self.seq_length]\n",
        "        t = self.idx[k+1:k+1+self.seq_length]\n",
        "        return self.seq_i2v(x), torch.tensor(t, dtype=torch.long)\n",
        "      \n",
        "    def seq_i2v(self, i):\n",
        "        '''\n",
        "        v = oos.seq_i2v(i)\n",
        "        converts a sequence of indices to a sequence of 1-hot vectors\n",
        "        i  (T,) tensor\n",
        "        v  (T,27) tensor\n",
        "        '''\n",
        "        x = torch.zeros((len(i), self.vocab_size))\n",
        "        for k,ii in enumerate(i):\n",
        "            x[k,ii] = 1.\n",
        "        return x\n",
        "    \n",
        "    def seq_v2i(self, v):\n",
        "        '''\n",
        "        i = oos.seq_v2i(v)\n",
        "        converts a sequence of 1-hot vectors to a sequence of indices\n",
        "        v  (T,27) tensor\n",
        "        i  (T,) tensor\n",
        "        '''\n",
        "        return torch.tensor([torch.argmax(vv).item() for vv in v])\n",
        "    \n",
        "    def seq_i2c(self, i):\n",
        "        '''\n",
        "        c = oos.seq_i2c(i)\n",
        "        converts a sequence of indices to a string\n",
        "        i  (T,) tensor\n",
        "        c  string\n",
        "        '''\n",
        "        return ''.join(self.indices_char[ii.item()] for ii in i)\n",
        "    \n",
        "    def seq_v2c(self, v):\n",
        "        '''\n",
        "        c = oos.seq_v2c(v)\n",
        "        converts a sequence of 1-hot vectors to a string\n",
        "        v  (T,27) tensor\n",
        "        c  string\n",
        "        '''\n",
        "        i = self.seq_v2i(v)\n",
        "        return self.seq_i2c(i)\n",
        "    \n",
        "    def seq_c2i(self, c):\n",
        "        '''\n",
        "        i = oos.seq_c2i(c)\n",
        "        converts a string to a sequence of indices\n",
        "        c  string\n",
        "        i  (T,) tensor\n",
        "        '''\n",
        "        return torch.tensor([self.char_indices[cc] for cc in c])\n",
        "    \n",
        "    def seq_c2v(self, c):\n",
        "        '''\n",
        "        v = oos.seq_c2v(c)\n",
        "        converts a string to a sequence of 1-hot vectors\n",
        "        c  string\n",
        "        v  (T,27) tensor\n",
        "        '''\n",
        "        i = self.seq_c2i(c)\n",
        "        return self.seq_i2v(i)"
      ]
    },
    {
      "cell_type": "code",
      "execution_count": 3,
      "metadata": {},
      "outputs": [
        {
          "name": "stdout",
          "output_type": "stream",
          "text": [
            "Character set: \" .abcdefghijklmnopqrstuvwxy\" (first char is a space)\n",
            "There are 27 characters in our character set\n"
          ]
        }
      ],
      "source": [
        "oos = Origin(start=1000, stop=11016, seq_length=15)"
      ]
    },
    {
      "cell_type": "code",
      "execution_count": 4,
      "metadata": {},
      "outputs": [
        {
          "data": {
            "text/plain": [
              "{' ': 0,\n",
              " '.': 1,\n",
              " 'a': 2,\n",
              " 'b': 3,\n",
              " 'c': 4,\n",
              " 'd': 5,\n",
              " 'e': 6,\n",
              " 'f': 7,\n",
              " 'g': 8,\n",
              " 'h': 9,\n",
              " 'i': 10,\n",
              " 'j': 11,\n",
              " 'k': 12,\n",
              " 'l': 13,\n",
              " 'm': 14,\n",
              " 'n': 15,\n",
              " 'o': 16,\n",
              " 'p': 17,\n",
              " 'q': 18,\n",
              " 'r': 19,\n",
              " 's': 20,\n",
              " 't': 21,\n",
              " 'u': 22,\n",
              " 'v': 23,\n",
              " 'w': 24,\n",
              " 'x': 25,\n",
              " 'y': 26}"
            ]
          },
          "execution_count": 4,
          "metadata": {},
          "output_type": "execute_result"
        }
      ],
      "source": [
        "oos.char_indices"
      ]
    },
    {
      "cell_type": "code",
      "execution_count": 5,
      "metadata": {},
      "outputs": [
        {
          "data": {
            "text/plain": [
              "10000"
            ]
          },
          "execution_count": 5,
          "metadata": {},
          "output_type": "execute_result"
        }
      ],
      "source": [
        "# Number of training sequences\n",
        "len(oos)"
      ]
    },
    {
      "cell_type": "code",
      "execution_count": 6,
      "metadata": {
        "scrolled": true
      },
      "outputs": [
        {
          "data": {
            "text/plain": [
              "10016"
            ]
          },
          "execution_count": 6,
          "metadata": {},
          "output_type": "execute_result"
        }
      ],
      "source": [
        "# Total number of characters\n",
        "len(oos.text)"
      ]
    },
    {
      "cell_type": "code",
      "execution_count": 7,
      "metadata": {},
      "outputs": [],
      "source": [
        "# Get a sequence, both input and target\n",
        "x, t = oos.__getitem__(0)"
      ]
    },
    {
      "cell_type": "code",
      "execution_count": 8,
      "metadata": {},
      "outputs": [
        {
          "data": {
            "text/plain": [
              "torch.Size([15, 27])"
            ]
          },
          "execution_count": 8,
          "metadata": {},
          "output_type": "execute_result"
        }
      ],
      "source": [
        "# A sequence of 15 one-hot vectors\n",
        "x.shape"
      ]
    },
    {
      "cell_type": "code",
      "execution_count": 9,
      "metadata": {},
      "outputs": [
        {
          "data": {
            "text/plain": [
              "tensor([ 0, 15, 16, 21,  0,  3,  6,  6, 15,  0,  9,  2, 20, 21, 26])"
            ]
          },
          "execution_count": 9,
          "metadata": {},
          "output_type": "execute_result"
        }
      ],
      "source": [
        "# Indecies of 15 targets\n",
        "t"
      ]
    },
    {
      "cell_type": "code",
      "execution_count": 10,
      "metadata": {},
      "outputs": [
        {
          "data": {
            "text/plain": [
              "'e not been hast'"
            ]
          },
          "execution_count": 10,
          "metadata": {},
          "output_type": "execute_result"
        }
      ],
      "source": [
        "# Convert the input sequence to a string\n",
        "oos.seq_v2c(x)"
      ]
    },
    {
      "cell_type": "code",
      "execution_count": 11,
      "metadata": {},
      "outputs": [
        {
          "name": "stdout",
          "output_type": "stream",
          "text": [
            "Here is how you can view one of the sample sequences:\n",
            "         Sample input: \"e not been hast\"\n",
            "Corresponding targets: \" not been hasty\"\n"
          ]
        }
      ],
      "source": [
        "print('Here is how you can view one of the sample sequences:')\n",
        "print(f'         Sample input: \"{oos.seq_v2c(x)}\"')\n",
        "print(f'Corresponding targets: \"{oos.seq_i2c(t)}\"')"
      ]
    },
    {
      "cell_type": "code",
      "execution_count": 12,
      "metadata": {},
      "outputs": [],
      "source": [
        "# We'll use this DataLoader for minibatch SGD\n",
        "dl = torch.utils.data.DataLoader(oos, batch_size=128, shuffle=True)"
      ]
    },
    {
      "cell_type": "code",
      "execution_count": 13,
      "metadata": {},
      "outputs": [
        {
          "name": "stdout",
          "output_type": "stream",
          "text": [
            "torch.Size([128, 15, 27])\n"
          ]
        }
      ],
      "source": [
        "# Let's get a batch just to see what it looks like.\n",
        "xb, tb = next(iter(dl))\n",
        "print(xb.shape)"
      ]
    },
    {
      "cell_type": "code",
      "execution_count": 14,
      "metadata": {},
      "outputs": [
        {
          "name": "stdout",
          "output_type": "stream",
          "text": [
            "Taking sequence 6 from the batch:\n",
            "         Sample input: \"e unsatisfactor\"\n",
            "Corresponding targets:  \" unsatisfactory\"\n"
          ]
        }
      ],
      "source": [
        "k = 6\n",
        "print(f'Taking sequence {k} from the batch:')\n",
        "print(f'         Sample input: \"{oos.seq_v2c(xb[k])}\"')\n",
        "print(f'Corresponding targets:  \"{oos.seq_i2c(tb[k])}\"')"
      ]
    },
    {
      "cell_type": "code",
      "execution_count": 15,
      "metadata": {},
      "outputs": [
        {
          "name": "stdout",
          "output_type": "stream",
          "text": [
            "tensor([ 0, 22, 15, 20,  2, 21, 10, 20,  7,  2,  4, 21, 16, 19, 26])\n"
          ]
        }
      ],
      "source": [
        "print(tb[k])"
      ]
    },
    {
      "cell_type": "markdown",
      "metadata": {},
      "source": [
        "# Q4 (a) Complete `minGRU`"
      ]
    },
    {
      "cell_type": "code",
      "execution_count": 16,
      "metadata": {},
      "outputs": [],
      "source": [
        "class minGRU(nn.Module):\n",
        "    '''\n",
        "     net = minGRU(in_dim, hidden_dim, out_dim, outfcn=nn.LogSoftmax(dim=-1))\n",
        "\n",
        "     Create a minGRU network.\n",
        "\n",
        "     Inputs:\n",
        "      in_dim      dimension of input\n",
        "      hidden_dim  dimension of hidden layers\n",
        "      out_dim     dimension of output\n",
        "      outfcn      activation function for output\n",
        "                  (default: nn.LogSoftmax(dim=-1))\n",
        "\n",
        "     Usage:\n",
        "     > net = minGRU(27, 300, 27, outfcn=nn.Tanh())\n",
        "     > x = torch.randn((3, 10, 27))  # batch of 3 sequences of length 10\n",
        "     > y = net(x)\n",
        "     Returns y with shape (3, 10, 27)\n",
        "     \n",
        "     > y = net.step(x[:,0,:].unsqueeze(1))\n",
        "     Returns y with shape (3, 1, 27)\n",
        "    '''\n",
        "    def __init__(self, in_dim, hidden_dim, out_dim, outfcn=nn.LogSoftmax(dim=-1)):\n",
        "        super().__init__()\n",
        "        self.in_dim = in_dim          # input dimension\n",
        "        self.hidden_dim = hidden_dim  # hidden dimension\n",
        "        self.out_dim = out_dim        # output dimension\n",
        "\n",
        "        self.h = None\n",
        "        \n",
        "\n",
        "        #===== YOUR CODE HERE =====\n",
        "        self.layers = torch.nn.ModuleList()\n",
        "\n",
        "        Ug_bg_lyr = torch.nn.Linear(in_dim, hidden_dim) # computes xt @ Ug + bg\n",
        "        U_b_lyr = torch.nn.Linear(in_dim, hidden_dim) # computes xt @ U + b\n",
        "        V_by_lyr = torch.nn.Linear(hidden_dim, out_dim) # computes ht @ V + by\n",
        "\n",
        "        self.layers.append(Ug_bg_lyr)\n",
        "        self.layers.append(U_b_lyr)\n",
        "        self.layers.append(V_by_lyr)\n",
        "        \n",
        "        self.hiddenfcn = torch.nn.Sigmoid()\n",
        "        self.outfcn = outfcn\n",
        "        # self.softmax = torch.nn.Softmax()\n",
        "        #==========================\n",
        "\n",
        "\n",
        "        self.losses = []\n",
        "        self.to(device)\n",
        "    \n",
        "    def reset(self):\n",
        "        self.h = None\n",
        "\n",
        "    def step(self, x):\n",
        "        '''\n",
        "        y = net.step(x)\n",
        "\n",
        "        Performs one time step of an entire batch, using the input x and the\n",
        "        saved hidden state (net.h) to generate the output y.\n",
        "        \n",
        "        Input:\n",
        "         x  (batch_size, 1, in_dim) tensor\n",
        "\n",
        "        Output:\n",
        "         y  (batch_size, 1, out_dim) tensor\n",
        "        '''\n",
        "        _, T, _ = x.shape\n",
        "        assert T == 1, 'minGRU.step: x must have shape (batch_size, 1, in_dim)'\n",
        "        if self.h is None:\n",
        "            self.h = torch.zeros((x.shape[0], 1, self.hidden_dim)).to(device)\n",
        "\n",
        "\n",
        "        #===== YOUR CODE HERE =====\n",
        "\n",
        "        gt = self.hiddenfcn(self.layers[0](x))\n",
        "        ht_tilde = self.layers[1](x)\n",
        "        self.h = torch.mul(gt, ht_tilde) + torch.mul(1-gt, self.h)\n",
        "        y = self.outfcn(self.layers[2](self.h))\n",
        "\n",
        "        #==========================\n",
        "\n",
        "\n",
        "        return y\n",
        "        \n",
        "    def forward(self, x_batch):\n",
        "        '''\n",
        "        y = net.forward(x_batch) or y = net(x_batch)\n",
        "\n",
        "        Performs a forward pass of an entire batch of sequences, using the input x_batch to\n",
        "        generate the output y.\n",
        "        The hidden state, h, is carried forward through timesteps but not returned.\n",
        "\n",
        "        Input:\n",
        "         x_batch  (batch_size, T, in_dim) tensor\n",
        "\n",
        "        Output:\n",
        "         y        (batch_size, T, out_dim) tensor\n",
        "        '''\n",
        "        # The input x_batch is a batch of sequences of one-hot vectors.\n",
        "        samples, T, in_dim = x_batch.shape\n",
        "        assert in_dim == self.in_dim, 'minGRU.forward: x_batch must have shape (batch_size, T, in_dim)'\n",
        "\n",
        "        x_batch = x_batch.to(device)   # just in case you have a GPU\n",
        "        self.reset()\n",
        "        \n",
        "\n",
        "        #===== YOUR CODE HERE =====\n",
        "        # y = torch.zeros((samples, T, self.out_dim)).to(device) # <= replace this line\n",
        "        y = None\n",
        "        for i in range(T):\n",
        "            # yt shape: (batch_size, 1, out_dim)\n",
        "            yt = self.step(x_batch[:,i,:].unsqueeze(1))\n",
        "            if y != None:\n",
        "                y = torch.cat([y, yt], dim=1)\n",
        "            else:\n",
        "                y = yt\n",
        "        #==========================\n",
        "\n",
        "\n",
        "        return y"
      ]
    },
    {
      "cell_type": "markdown",
      "metadata": {},
      "source": [
        "# Q4 (b) Complete `DeepminGRU`"
      ]
    },
    {
      "cell_type": "code",
      "execution_count": 17,
      "metadata": {},
      "outputs": [],
      "source": [
        "class DeepminGRU(nn.Module):\n",
        "    '''\n",
        "    net = DeepminGRU(n_layers, in_dim, hidden_dim)\n",
        "\n",
        "    Creates a deep minGRU network with n_layers layers, where the input\n",
        "    to each minGRU layer has in_dim neurons, and the hidden layer has\n",
        "    hidden_dim neurons.\n",
        "\n",
        "    The output of the last (top) layer should use a LogSoftmax activation\n",
        "    function.\n",
        "\n",
        "    Usage:\n",
        "    > net = DeepminGRU(3, 27, 300)\n",
        "    > x = torch.randn((3, 10, 27))  # batch of 3 sequences of length 10\n",
        "    > y = net(x)\n",
        "    Returns y with shape (3, 10, 27)\n",
        "\n",
        "    > y = net.step(x[:,0,:].unsqueeze(1))\n",
        "    Returns y with shape (3, 1, 27), where y[n,0,:] is the log of a probability vector\n",
        "    '''\n",
        "    def __init__(self, n_layers, in_dim, hidden_dim):\n",
        "        super().__init__()\n",
        "        self.in_dim = in_dim\n",
        "        self.hidden_dim = hidden_dim\n",
        "        self.losses = []\n",
        "\n",
        "\n",
        "        #===== YOUR CODE HERE =====\n",
        "        # Add some minGRU layers\n",
        "        self.layers = torch.nn.ModuleList()\n",
        "        self.n_layers = n_layers\n",
        "        for i in range(n_layers):\n",
        "            if i < n_layers - 1:\n",
        "                # use tanh activation for intermediate layers\n",
        "                outfcn = torch.nn.Tanh()\n",
        "            else:\n",
        "                outfcn = torch.nn.LogSoftmax(dim=-1)\n",
        "\n",
        "            self.layers.append(minGRU(in_dim, hidden_dim, in_dim, outfcn))\n",
        "\n",
        "        #==========================\n",
        "\n",
        "\n",
        "        self.to(device)\n",
        "\n",
        "    def reset(self):\n",
        "        for l in self.layers:\n",
        "            l.reset()\n",
        "\n",
        "    # output: (batch_size, 1, out_dim)\n",
        "    def step(self, x):\n",
        "        \n",
        "        #===== YOUR CODE HERE =====\n",
        "        next_input = x\n",
        "\n",
        "        for lyr in self.layers:\n",
        "            next_input = lyr.step(next_input)\n",
        "\n",
        "        x = next_input\n",
        "        #==========================\n",
        "\n",
        "        return x\n",
        "    \n",
        "    # output: (batch_size, T, out_dim)\n",
        "    def forward(self, x):\n",
        "\n",
        "\n",
        "        #===== YOUR CODE HERE =====\n",
        "        # Add some minGRU layers\n",
        "        input_batch = x\n",
        "\n",
        "        for lyr in self.layers:\n",
        "            input_batch = lyr(input_batch)\n",
        "\n",
        "        x = input_batch\n",
        "        #==========================\n",
        "\n",
        "        return x\n",
        "                \n",
        "    def predict(self, x, n=10):\n",
        "        '''\n",
        "        y = net.predict(x, n=10)\n",
        "\n",
        "        Given a sequence of one-hot vectors x, predict the next n\n",
        "        outputs.\n",
        "\n",
        "        Inputs:\n",
        "         x  (1, T, in_dim) tensor, where T is the length of the sequence\n",
        "         n  int, the number of outputs to predict\n",
        "\n",
        "        Outputs:\n",
        "         y  (1, n, out_dim) tensor of probability vectors\n",
        "        '''\n",
        "        with torch.no_grad():\n",
        "            assert x.shape[0] == 1, 'predict: x must have shape (1, T, in_dim)'\n",
        "            assert x.shape[2] == self.in_dim, 'predict: x must have shape (1, T, in_dim)'\n",
        "            # output = torch.zeros((1, n+1, self.in_dim)).to(device)\n",
        "            output = torch.zeros((1, n, self.in_dim)).to(device)\n",
        "\n",
        "            self.reset()  # Reset all hidden states\n",
        "\n",
        "\n",
        "            #===== YOUR CODE HERE =====\n",
        "            \n",
        "            # get the first next character\n",
        "            if n >= 1:\n",
        "                # shape (1, T, out_dim)\n",
        "                log_output_probs = self(x)\n",
        "                out_dim = log_output_probs.shape[-1]\n",
        "                output_probs = torch.exp(log_output_probs)\n",
        "                # shape (1, T)\n",
        "                output_classes = torch.argmax(output_probs, dim=2)\n",
        "\n",
        "                # shape (1,T, out_dim)\n",
        "                output_one_hot = torch.nn.functional.one_hot(output_classes, out_dim)\n",
        "\n",
        "                # shape (out_dim)\n",
        "                output[0, 0] = output_one_hot[0, -1].view(1,1,-1)\n",
        "                \n",
        "            # shape (1,1,out_dim)\n",
        "            cur_input = output[0, 0].view(1,1,out_dim)\n",
        "\n",
        "            # get remaining n-1 next characters after the first one\n",
        "            # keep feeding the next character back into the network using step()\n",
        "            for i in range(1,n):\n",
        "                # shape (1, 1, out_dim)\n",
        "                log_output_prob_next_char = self.step(cur_input)\n",
        "                output_prob_next_char = torch.exp(log_output_prob_next_char)\n",
        "                # shape (1, 1)\n",
        "                output_class_next_char = torch.argmax(output_prob_next_char, dim=2)\n",
        "\n",
        "                # shape (1,1, out_dim)\n",
        "                output_one_hot = torch.nn.functional.one_hot(output_class_next_char, out_dim)\n",
        "                \n",
        "                # shape (1,1,out_dim)\n",
        "                output[0, i] = output_one_hot[0, -1].view(1,1,-1)\n",
        "                cur_input = output[0, i].view(1,1,out_dim)\n",
        "\n",
        "            #==========================\n",
        "\n",
        "\n",
        "        return output\n",
        "    \n",
        "    def bptt(self, dl, epochs=10, lr=0.001):\n",
        "        '''\n",
        "        net.bptt(dl, epochs=10, lr=0.001)\n",
        "        Perform backprop-through-time (BPTT) to learn from the sequences in the dataset.\n",
        "         dl      Dataloader object (see above)\n",
        "         epochs  How many epochs to train for\n",
        "         lr      Learning rate\n",
        "        '''\n",
        "        loss_fcn = nn.NLLLoss()\n",
        "        optim = torch.optim.Adam(self.parameters(), lr=lr)\n",
        "        for epoch in tqdm(range(epochs)):\n",
        "            total_loss = 0.\n",
        "            for x,t in (dl):\n",
        "                y = self(x)\n",
        "                # Loss is summed over time steps\n",
        "                loss = torch.tensor(0., device=device, requires_grad=True)\n",
        "                for k in range(t.shape[1]):\n",
        "                    ys = y[:,k,:].squeeze()\n",
        "                    ts = t[:,k]\n",
        "                    loss = loss + loss_fcn(ys, ts)\n",
        "                optim.zero_grad()\n",
        "                loss.backward()\n",
        "                optim.step()\n",
        "                total_loss += loss.detach().cpu().item() * len(t)\n",
        "            self.losses.append(total_loss/len(dl.dataset))\n",
        "        print(self.losses)\n",
        "        plt.plot(self.losses)"
      ]
    },
    {
      "cell_type": "markdown",
      "metadata": {},
      "source": [
        "# Q4 (c) Train it"
      ]
    },
    {
      "cell_type": "code",
      "execution_count": 18,
      "metadata": {},
      "outputs": [
        {
          "name": "stderr",
          "output_type": "stream",
          "text": [
            "100%|██████████| 50/50 [01:43<00:00,  2.07s/it]"
          ]
        },
        {
          "name": "stdout",
          "output_type": "stream",
          "text": [
            "[36.04929477539063, 28.745495791625977, 24.89831304321289, 22.37505096435547, 20.23371933288574, 18.87514627075195, 17.70054126586914, 16.688851190185545, 15.791585513305664, 15.223031225585938, 14.78416093902588, 14.24240394744873, 13.726957287597656, 13.3767644821167, 13.088829350280761, 12.784024160766602, 12.489003700256347, 12.276075340270996, 12.165133013916016, 11.96875030822754, 11.649128332519531, 11.567455282592773, 11.403691355895996, 11.244020712280273, 11.12987713470459, 11.050809742736817, 10.963475747680665, 11.011483836364746, 10.8251383102417, 10.857504689025879, 10.690390649414063, 10.638859524536132, 10.624187062072753, 10.464736141967773, 10.471623292541503, 10.432620713806152, 10.253279693603515, 10.203229795837402, 10.318805792236327, 10.126201930236816, 10.082330184936524, 10.04547509765625, 10.024981973266602, 10.22302628479004, 10.059028239440918, 10.012157453918457, 9.877293299865723, 9.803299122619629, 9.79387043762207, 9.871779473876954]\n"
          ]
        },
        {
          "name": "stderr",
          "output_type": "stream",
          "text": [
            "\n"
          ]
        },
        {
          "data": {
            "image/png": "[encoded data removed]",
            "text/plain": [
              "<Figure size 640x480 with 1 Axes>"
            ]
          },
          "metadata": {},
          "output_type": "display_data"
        }
      ],
      "source": [
        "net = DeepminGRU(2, oos.vocab_size, 500)\n",
        "net.bptt(dl, epochs=50, lr=0.008)"
      ]
    },
    {
      "cell_type": "code",
      "execution_count": 19,
      "metadata": {},
      "outputs": [
        {
          "name": "stderr",
          "output_type": "stream",
          "text": [
            "100%|██████████| 50/50 [02:04<00:00,  2.49s/it]"
          ]
        },
        {
          "name": "stdout",
          "output_type": "stream",
          "text": [
            "[36.52581975097656, 29.49601628417969, 25.905922998046876, 23.49277258605957, 21.70829627380371, 20.285424307250977, 18.95048576965332, 18.025295245361328, 17.102579292297364, 16.294176626586914, 15.618757966613769, 15.083633738708496, 14.678536610412598, 14.182378166198731, 13.768515809631348, 13.486997471618652, 13.186027061462402, 12.952423294067383, 12.68587960205078, 12.509867008972169, 12.250150462341308, 12.116183940124511, 11.886552085876465, 11.700163928222656, 11.639908894348144, 11.486215786743164, 11.407859579467774, 11.223331968688965, 11.097821757507324, 10.959849938964844, 11.021859358215332, 10.766847465515136, 10.76731083984375, 10.723073655700684, 10.584690887451172, 10.557578594970703, 10.46889801940918, 10.317889836120605, 10.276114932250977, 10.133872244262696, 10.145226609802245, 10.15101881866455, 10.131896440124512, 10.047668946838378, 10.008577772521972, 9.887837609863281, 9.811520967102052, 9.806940928649903, 9.793417985534669, 9.807838409423828]\n"
          ]
        },
        {
          "name": "stderr",
          "output_type": "stream",
          "text": [
            "\n"
          ]
        },
        {
          "data": {
            "image/png": "[encoded data removed]",
            "text/plain": [
              "<Figure size 640x480 with 1 Axes>"
            ]
          },
          "metadata": {},
          "output_type": "display_data"
        }
      ],
      "source": [
        "net = DeepminGRU(2, oos.vocab_size, 500)\n",
        "net.bptt(dl, epochs=50, lr=0.006)"
      ]
    },
    {
      "cell_type": "code",
      "execution_count": null,
      "metadata": {},
      "outputs": [
        {
          "name": "stderr",
          "output_type": "stream",
          "text": [
            "100%|██████████| 50/50 [02:22<00:00,  2.85s/it]"
          ]
        },
        {
          "name": "stdout",
          "output_type": "stream",
          "text": [
            "[37.03864164428711, 30.512824221801758, 27.285240603637696, 24.953507400512695, 23.177552731323242, 21.777316302490235, 20.427076055908202, 19.535137481689453, 18.528558471679688, 17.794778137207032, 17.066529373168944, 16.44447752685547, 15.971242797851563, 15.386807354736328, 14.92420210571289, 14.607096731567383, 14.130816990661621, 13.827885243225097, 13.494159661865234, 13.269717420959473, 13.087267890930177, 12.765743110656738, 12.629427581787109, 12.316808081054688, 12.199351843261718, 12.000919413757325, 11.861662010192871, 11.738991384887695, 11.492387413024902, 11.401650843811035, 11.33538628692627, 11.172747575378418, 11.078637110900878, 10.942799287414552, 10.914722743225097, 10.789047296142579, 10.814829243469239, 10.708756838989258, 10.468371287536621, 10.533790469360351, 10.330673065185547, 10.414503462219239, 10.293622463989259, 10.232293797302246, 10.222193395996094, 10.218951315307617, 10.05689183807373, 9.962998780822755, 9.965311590576173, 10.016181507873535]\n"
          ]
        },
        {
          "name": "stderr",
          "output_type": "stream",
          "text": [
            "\n"
          ]
        },
        {
          "data": {
            "image/png": "[encoded data removed]",
            "text/plain": [
              "<Figure size 640x480 with 1 Axes>"
            ]
          },
          "metadata": {},
          "output_type": "display_data"
        }
      ],
      "source": [
        "net = DeepminGRU(2, oos.vocab_size, 500)\n",
        "net.bptt(dl, epochs=50, lr=0.005)"
      ]
    },
    {
      "cell_type": "code",
      "execution_count": null,
      "metadata": {},
      "outputs": [],
      "source": [
        "# You can save and re-load your model if you choose.\n",
        "# torch.save(net.cpu(), 'origin_500dh.pt')\n",
        "# net = torch.load('origin.pt').to(device)"
      ]
    },
    {
      "cell_type": "markdown",
      "metadata": {},
      "source": [
        "# Q4 (d) Next-Letter Prediction Accuracy"
      ]
    },
    {
      "cell_type": "code",
      "execution_count": 21,
      "metadata": {},
      "outputs": [
        {
          "name": "stdout",
          "output_type": "stream",
          "text": [
            "Next letter accuracy 0.9282\n"
          ]
        }
      ],
      "source": [
        "#===== YOUR CODE HERE =====\n",
        "# Get last output for each sequence in the dataset\n",
        "\n",
        "# Check if the last output matches the target\n",
        "\n",
        "# Report what fraction of the 9984 sequences yielded the correct next letter\n",
        "\n",
        "\n",
        "N = 10000 # 128 * num_batches + 16. 16 is the size of last batch\n",
        "num_correct = 0\n",
        "\n",
        "for x,t in (dl):\n",
        "    B = x.shape[0]\n",
        "    for i in range(B):\n",
        "        # shape (1,1,out_dim)\n",
        "        next_c = net.predict(x[i].unsqueeze(0), 1)\n",
        "        if (torch.argmax(next_c) == t[i, -1]):\n",
        "            num_correct += 1\n",
        "\n",
        "    # print(x.shape, t.shape)\n",
        "\n",
        "print(\"Next letter accuracy\", num_correct/N)\n",
        "#==========================\n"
      ]
    },
    {
      "cell_type": "markdown",
      "metadata": {},
      "source": [
        "# Q4 (e) Predict the next 160 characters"
      ]
    },
    {
      "cell_type": "code",
      "execution_count": 22,
      "metadata": {},
      "outputs": [
        {
          "name": "stdout",
          "output_type": "stream",
          "text": [
            ". i may venture\u001b[31m to express my conviction of the whole animal and which i formerly ent\u001b[0m\n",
            "\u001b[31mertained namely first the structure of the case of the conclusions have coadaptation. . va\u001b[0m\n"
          ]
        }
      ],
      "source": [
        "# Choose a sequence randomly\n",
        "v,t = oos.__getitem__(np.random.randint(len(oos)))\n",
        "\n",
        "# Or enter your own prompt (don't be rude)\n",
        "#v = oos.seq_i2v([oos.char_indices[cc] for cc in 'higher forms'])\n",
        "\n",
        "# Use v.unsqueeze(0) to make it a batch with one sequence\n",
        "\n",
        "# Predict the next 160 characters\n",
        "\n",
        "\n",
        "#===== YOUR CODE HERE =====\n",
        "\n",
        "# shape (1, n, out_dim)\n",
        "pred_vectors = net.predict(v.unsqueeze(0), n=160)\n",
        "pred_text = oos.seq_v2c(pred_vectors.squeeze())\n",
        "#==========================\n",
        "\n",
        "\n",
        "print(f'{oos.seq_v2c(v.squeeze())}\\033[31m{pred_text[:70]}\\033[0m')\n",
        "print(f'\\033[31m{pred_text[70:]}\\033[0m')"
      ]
    }
  ],
  "metadata": {
    "kernelspec": {
      "display_name": "base (Python 3.11.7)",
      "language": "python",
      "name": "anaconda3"
    },
    "language_info": {
      "codemirror_mode": {
        "name": "ipython",
        "version": 3
      },
      "file_extension": ".py",
      "mimetype": "text/x-python",
      "name": "python",
      "nbconvert_exporter": "python",
      "pygments_lexer": "ipython3",
      "version": "3.11.8"
    }
  },
  "nbformat": 4,
  "nbformat_minor": 4
}
